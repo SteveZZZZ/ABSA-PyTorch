{
  "nbformat": 4,
  "nbformat_minor": 0,
  "metadata": {
    "colab": {
      "name": "Untitled0.ipynb",
      "provenance": [],
      "authorship_tag": "ABX9TyMKR/7Pk641jv572gBiCIpJ",
      "include_colab_link": true
    },
    "kernelspec": {
      "name": "python3",
      "display_name": "Python 3"
    }
  },
  "cells": [
    {
      "cell_type": "markdown",
      "metadata": {
        "id": "view-in-github",
        "colab_type": "text"
      },
      "source": [
        "<a href=\"https://colab.research.google.com/github/SteveZZZZ/ABSA-PyTorch/blob/master/Fun.ipynb\" target=\"_parent\"><img src=\"https://colab.research.google.com/assets/colab-badge.svg\" alt=\"Open In Colab\"/></a>"
      ]
    },
    {
      "cell_type": "code",
      "metadata": {
        "id": "vc3MWp_xplyb",
        "colab_type": "code",
        "colab": {
          "base_uri": "https://localhost:8080/",
          "height": 33
        },
        "outputId": "850803e1-7bf1-42a5-8e8e-07e855538b41"
      },
      "source": [
        "i%5 == 0 and i%3 == 0 :"
      ],
      "execution_count": 4,
      "outputs": [
        {
          "output_type": "execute_result",
          "data": {
            "text/plain": [
              "3"
            ]
          },
          "metadata": {
            "tags": []
          },
          "execution_count": 4
        }
      ]
    },
    {
      "cell_type": "code",
      "metadata": {
        "id": "78wrusgLppJA",
        "colab_type": "code",
        "colab": {
          "base_uri": "https://localhost:8080/",
          "height": 830
        },
        "outputId": "8be0aab5-f7b1-4c1e-b9a9-d7ec18ba13c9"
      },
      "source": [
        "for i in range (1,51):\n",
        "   if i%5 == 0 and i%3 == 0:\n",
        "     print(\"lalala\")\n",
        "   elif i%5 == 0:\n",
        "     print(555)\n",
        "   elif i%3 == 0:\n",
        "     print(333)\n",
        "   else:\n",
        "      print(i)\n"
      ],
      "execution_count": 21,
      "outputs": [
        {
          "output_type": "stream",
          "text": [
            "1\n",
            "2\n",
            "333\n",
            "4\n",
            "555\n",
            "333\n",
            "7\n",
            "8\n",
            "333\n",
            "555\n",
            "11\n",
            "333\n",
            "13\n",
            "14\n",
            "lalala\n",
            "16\n",
            "17\n",
            "333\n",
            "19\n",
            "555\n",
            "333\n",
            "22\n",
            "23\n",
            "333\n",
            "555\n",
            "26\n",
            "333\n",
            "28\n",
            "29\n",
            "lalala\n",
            "31\n",
            "32\n",
            "333\n",
            "34\n",
            "555\n",
            "333\n",
            "37\n",
            "38\n",
            "333\n",
            "555\n",
            "41\n",
            "333\n",
            "43\n",
            "44\n",
            "lalala\n",
            "46\n",
            "47\n",
            "333\n",
            "49\n",
            "555\n"
          ],
          "name": "stdout"
        }
      ]
    },
    {
      "cell_type": "code",
      "metadata": {
        "id": "UxysKqLsp6q-",
        "colab_type": "code",
        "colab": {}
      },
      "source": [
        "a=[3,5,6,7,8]\n",
        "b=(5,8,33,2,5,6,9)"
      ],
      "execution_count": 29,
      "outputs": []
    },
    {
      "cell_type": "code",
      "metadata": {
        "id": "MPgwmNzs_4oy",
        "colab_type": "code",
        "colab": {
          "base_uri": "https://localhost:8080/",
          "height": 33
        },
        "outputId": "c1972d59-3978-4c4b-e96b-bff9e07c6dc3"
      },
      "source": [
        "type(b)"
      ],
      "execution_count": 32,
      "outputs": [
        {
          "output_type": "execute_result",
          "data": {
            "text/plain": [
              "tuple"
            ]
          },
          "metadata": {
            "tags": []
          },
          "execution_count": 32
        }
      ]
    },
    {
      "cell_type": "code",
      "metadata": {
        "id": "W-DBiVYc_-Kp",
        "colab_type": "code",
        "colab": {
          "base_uri": "https://localhost:8080/",
          "height": 33
        },
        "outputId": "70296e84-c075-4b19-f49c-81796ed6752a"
      },
      "source": [
        "c=a*2\n",
        "print(c)"
      ],
      "execution_count": 34,
      "outputs": [
        {
          "output_type": "stream",
          "text": [
            "[3, 5, 6, 7, 8, 3, 5, 6, 7, 8]\n"
          ],
          "name": "stdout"
        }
      ]
    },
    {
      "cell_type": "code",
      "metadata": {
        "id": "AlwiAx8qBWqj",
        "colab_type": "code",
        "colab": {}
      },
      "source": [
        "d=b*2"
      ],
      "execution_count": 35,
      "outputs": []
    },
    {
      "cell_type": "markdown",
      "metadata": {
        "id": "CCuVDDLHCS32",
        "colab_type": "text"
      },
      "source": [
        "*wd*"
      ]
    },
    {
      "cell_type": "code",
      "metadata": {
        "id": "ZLpvvZTaBdQh",
        "colab_type": "code",
        "colab": {
          "base_uri": "https://localhost:8080/",
          "height": 33
        },
        "outputId": "559f6543-7646-4fbf-d245-4bf77d14a400"
      },
      "source": [
        "print(d)"
      ],
      "execution_count": 36,
      "outputs": [
        {
          "output_type": "stream",
          "text": [
            "(5, 8, 33, 2, 5, 6, 9, 5, 8, 33, 2, 5, 6, 9)\n"
          ],
          "name": "stdout"
        }
      ]
    },
    {
      "cell_type": "code",
      "metadata": {
        "id": "JMmADJiRBidH",
        "colab_type": "code",
        "colab": {
          "base_uri": "https://localhost:8080/",
          "height": 33
        },
        "outputId": "3296104d-329f-475a-e84c-acd967618991"
      },
      "source": [
        "c[0]"
      ],
      "execution_count": 37,
      "outputs": [
        {
          "output_type": "execute_result",
          "data": {
            "text/plain": [
              "3"
            ]
          },
          "metadata": {
            "tags": []
          },
          "execution_count": 37
        }
      ]
    },
    {
      "cell_type": "code",
      "metadata": {
        "id": "-nNhIKLhB-ih",
        "colab_type": "code",
        "colab": {
          "base_uri": "https://localhost:8080/",
          "height": 33
        },
        "outputId": "0a0abb25-0754-4526-af06-005ba268e854"
      },
      "source": [
        "a[0]=3\n",
        "print(a[0])\n"
      ],
      "execution_count": 39,
      "outputs": [
        {
          "output_type": "stream",
          "text": [
            "3\n"
          ],
          "name": "stdout"
        }
      ]
    },
    {
      "cell_type": "code",
      "metadata": {
        "id": "1jYDtLRTCLDF",
        "colab_type": "code",
        "colab": {}
      },
      "source": [
        ""
      ],
      "execution_count": null,
      "outputs": []
    }
  ]
}